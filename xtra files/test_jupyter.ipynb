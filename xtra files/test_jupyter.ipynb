{
 "cells": [
  {
   "cell_type": "code",
   "execution_count": null,
   "id": "91b96a05",
   "metadata": {},
   "outputs": [],
   "source": [
    "# Each turn:\n",
    "prompt = f\"\"\"\n",
    "You are a helpful assistant that schedules meetings.\n",
    "\n",
    "Current conversation:\n",
    "{conversation_history}\n",
    "\n",
    "User's request: {latest_user_message}\n",
    "\n",
    "Known info: {collected_state}\n",
    "Missing info: {missing_fields}\n",
    "\n",
    "If missing, ask for it. If all info present, check calendar API and suggest free slots.\n",
    "If user confirms, book the slot and confirm.\n",
    "\n",
    "Assistant:\n",
    "\"\"\"\n",
    "\n",
    "response = call_llm_api(prompt)\n",
    "update_conversation_history(response)\n",
    "update_state(response)\n"
   ]
  },
  {
   "cell_type": "code",
   "execution_count": 2,
   "id": "8bb8db2e",
   "metadata": {},
   "outputs": [
    {
     "name": "stdout",
     "output_type": "stream",
     "text": [
      "Parsed datetime: 2025-10-16 15:00:00\n"
     ]
    }
   ],
   "source": [
    "# Test script for extract_date_time\n",
    "import dateparser\n",
    "from datetime import timedelta\n",
    "\n",
    "class AIAgent:\n",
    "    def extract_date_time(self, user_input):\n",
    "        dt = dateparser.parse(user_input)\n",
    "        if dt:\n",
    "            return dt\n",
    "        return None\n",
    "\n",
    "agent = AIAgent()\n",
    "test_input = \"tomorrow at 3pm\"\n",
    "result = agent.extract_date_time(test_input)\n",
    "print(\"Parsed datetime:\", result)"
   ]
  },
  {
   "cell_type": "code",
   "execution_count": null,
   "id": "924f5a5b",
   "metadata": {},
   "outputs": [],
   "source": []
  },
  {
   "cell_type": "code",
   "execution_count": null,
   "id": "7301b37a",
   "metadata": {},
   "outputs": [],
   "source": []
  },
  {
   "cell_type": "code",
   "execution_count": null,
   "id": "5f7d4f9d",
   "metadata": {},
   "outputs": [],
   "source": []
  },
  {
   "cell_type": "code",
   "execution_count": null,
   "id": "21495148",
   "metadata": {},
   "outputs": [],
   "source": []
  }
 ],
 "metadata": {
  "kernelspec": {
   "display_name": "base",
   "language": "python",
   "name": "python3"
  },
  "language_info": {
   "codemirror_mode": {
    "name": "ipython",
    "version": 3
   },
   "file_extension": ".py",
   "mimetype": "text/x-python",
   "name": "python",
   "nbconvert_exporter": "python",
   "pygments_lexer": "ipython3",
   "version": "3.12.4"
  }
 },
 "nbformat": 4,
 "nbformat_minor": 5
}
